{
  "cells": [
    {
      "cell_type": "markdown",
      "metadata": {
        "id": "B5CkLQMLysTe"
      },
      "source": [
        "# Introduction to CUDA parallel programming"
      ]
    },
    {
      "cell_type": "markdown",
      "metadata": {},
      "source": [
        "## Setting up the environment"
      ]
    },
    {
      "cell_type": "markdown",
      "metadata": {
        "id": "DLmVEFkjygeY"
      },
      "source": [
        "### Load nvcc plugin"
      ]
    },
    {
      "cell_type": "code",
      "execution_count": null,
      "metadata": {
        "colab": {
          "base_uri": "https://localhost:8080/"
        },
        "id": "o-Wliyl4JZIp",
        "outputId": "394cf463-8846-466b-9a9e-fe1daa3b9c14"
      },
      "outputs": [],
      "source": [
        "%load_ext nvcc4jupyter"
      ]
    },
    {
      "cell_type": "markdown",
      "metadata": {},
      "source": [
        "### For older GPU architectures (e.g. Maxwell) set additional command line parameters"
      ]
    },
    {
      "cell_type": "code",
      "execution_count": 2,
      "metadata": {},
      "outputs": [],
      "source": [
        "MAXWELL_ARCH_CMD = \"--gpu-architecture=compute_50 --gpu-code=compute_50,sm_50,sm_52\""
      ]
    },
    {
      "cell_type": "markdown",
      "metadata": {},
      "source": [
        "## RGB2Gray"
      ]
    },
    {
      "cell_type": "code",
      "execution_count": 3,
      "metadata": {},
      "outputs": [
        {
          "name": "stdout",
          "output_type": "stream",
          "text": [
            "Overwriting ppmIO.h\n"
          ]
        }
      ],
      "source": [
        "%%writefile ppmIO.h\n",
        "\n",
        "#pragma once\n",
        "#include <fstream>\n",
        "\n",
        "\n",
        "inline void getPPMSize(const char *filename, unsigned int* width, unsigned int* height) {\n",
        "\tchar buff[16];\n",
        "\tFILE *fp;\n",
        "\tint c;\n",
        "\n",
        "\t//open PPM file for reading\n",
        "\tfp = fopen(filename, \"rb\");\n",
        "\tif (!fp) {\n",
        "\t  fprintf(stderr, \"Unable to open file '%s'\\n\", filename);\n",
        "\t  exit(1);\n",
        "\t}\n",
        "\n",
        "\t//read image format\n",
        "\tif (!fgets(buff, sizeof(buff), fp)) {\n",
        "\t  perror(filename);\n",
        "\t  exit(1);\n",
        "\t}\n",
        "\n",
        "\t//check the image format\n",
        "\tif (buff[0] != 'P' || buff[1] != '6') {\n",
        "\t\t fprintf(stderr, \"Invalid image format (must be 'P6')\\n\");\n",
        "\t\t exit(1);\n",
        "\t}\n",
        "\n",
        "\t//check for comments\n",
        "\tc = getc(fp);\n",
        "\twhile (c == '#') {\n",
        "\twhile (getc(fp) != '\\n') ;\n",
        "\t\t c = getc(fp);\n",
        "\t}\n",
        "\n",
        "\tungetc(c, fp);\n",
        "\t//read image size information\n",
        "\tif (fscanf(fp, \"%d %d\", &(*width), &(*height)) != 2) {\n",
        "\t\t fprintf(stderr, \"Invalid image size (error loading '%s')\\n\", filename);\n",
        "\t\t exit(1);\n",
        "\t}\n",
        "}\n",
        "\n",
        "inline void readPPM(const char *filename, float* image)\n",
        "{\n",
        "\t char buff[16];\n",
        "\t FILE *fp;\n",
        "\t int c, rgb_comp_color;\n",
        "\t unsigned int width, height;\n",
        "\n",
        "\t //open PPM file for reading\n",
        "\t fp = fopen(filename, \"rb\");\n",
        "\t if (!fp) {\n",
        "\t\t  fprintf(stderr, \"Unable to open file '%s'\\n\", filename);\n",
        "\t\t  exit(1);\n",
        "\t }\n",
        "\n",
        "\t //read image format\n",
        "\t if (!fgets(buff, sizeof(buff), fp)) {\n",
        "\t\t  perror(filename);\n",
        "\t\t  exit(1);\n",
        "\t }\n",
        "\n",
        "\t//check the image format\n",
        "\tif (buff[0] != 'P' || buff[1] != '6') {\n",
        "\t\t fprintf(stderr, \"Invalid image format (must be 'P6')\\n\");\n",
        "\t\t exit(1);\n",
        "\t}\n",
        "\n",
        "\t//check for comments\n",
        "\tc = getc(fp);\n",
        "\twhile (c == '#') {\n",
        "\twhile (getc(fp) != '\\n') ;\n",
        "\t\t c = getc(fp);\n",
        "\t}\n",
        "\n",
        "\tungetc(c, fp);\n",
        "\t//read image size information\n",
        "\tif (fscanf(fp, \"%d %d\", &width, &height) != 2) {\n",
        "\t\t fprintf(stderr, \"Invalid image size (error loading '%s')\\n\", filename);\n",
        "\t\t exit(1);\n",
        "\t}\n",
        "\n",
        "\t//read rgb component\n",
        "\tif (fscanf(fp, \"%d\", &rgb_comp_color) != 1) {\n",
        "\t\t fprintf(stderr, \"Invalid rgb component (error loading '%s')\\n\", filename);\n",
        "\t\t exit(1);\n",
        "\t}\n",
        "\n",
        "\t//check rgb component depth\n",
        "\tif (rgb_comp_color!= 255) {\n",
        "\t\t fprintf(stderr, \"'%s' does not have 8-bits components\\n\", filename);\n",
        "\t\t exit(1);\n",
        "\t}\n",
        "\n",
        "\twhile (fgetc(fp) != '\\n') ;\n",
        "\n",
        "\t//allocate temporary memory for unsigned char data\n",
        "\tunsigned char* tempImage = (unsigned char*) malloc (width*height*3*sizeof(unsigned char));\n",
        "\n",
        "\t//read pixel data from file\n",
        "\tif (fread(tempImage, sizeof(unsigned char), 3 * width * height, fp) != 3 * width * height) {\n",
        "\t\t fprintf(stderr, \"Error loading image '%s'\\n\", filename);\n",
        "\t\t exit(1);\n",
        "\t}\n",
        "\n",
        "\t// transfer data from unsigned char to float\n",
        "\tint i;\n",
        "\tfor (i = 0; i < width * height * 3; ++i) {\n",
        "\t\timage[i] = (float)tempImage[i];\n",
        "\t}\n",
        "\n",
        "\t//cleanup\n",
        "\tfree(tempImage);\n",
        "\tfclose(fp);\n",
        "}\n",
        "\n",
        "void writePPM(const char* filename, float* image, unsigned int width, unsigned int height, bool isGray=0)\n",
        "{\n",
        "\tFILE *fp;\n",
        "\tunsigned int channels = isGray ? 1 : 3;\n",
        "\t//open file for output\n",
        "\tfp = fopen(filename, \"wb\");\n",
        "\tif (!fp) {\n",
        "\t\t fprintf(stderr, \"Unable to open file '%s'\\n\", filename);\n",
        "\t\t exit(1);\n",
        "\t}\n",
        "\n",
        "\t//write the header file\n",
        "\t//image format\n",
        "\tfprintf(fp, \"P6\\n\");\n",
        "\n",
        "\t//comments\n",
        "\tfprintf(fp, \"# Created for CUDA labs AGH\\n\");\n",
        "\n",
        "\t//image size\n",
        "\tfprintf(fp, \"%d %d\\n\", width, height);\n",
        "\n",
        "\t// rgb component depth\n",
        "\tfprintf(fp, \"%d\\n\", 255);\n",
        "\n",
        "\t//copy from float* to uchar*\n",
        "\tunsigned char* tempImage = (unsigned char*) malloc (width*height*3*sizeof(unsigned char));\n",
        "\tint i, j=0;\n",
        "\t\tfor (i = 0; i < width * height * channels; ++i) {\n",
        "\n",
        "\t\t\tj = isGray ? j : i;\n",
        "\t\t\ttempImage[j] = (unsigned char)image[i];\n",
        "\n",
        "\t\t\tif (isGray) {\n",
        "\t\t\t\ttempImage[j+1] = (unsigned char)image[i];\n",
        "\t\t\t\ttempImage[j+2] = (unsigned char)image[i];\n",
        "\t\t\t\tj += 3;\n",
        "\t\t\t}\n",
        "\t\t}\n",
        "\n",
        "\t// pixel data\n",
        "\tfwrite(tempImage, sizeof(unsigned char), 3 * width * height, fp);\n",
        "\tfree(tempImage);\n",
        "\tfclose(fp);\n",
        "}"
      ]
    },
    {
      "cell_type": "code",
      "execution_count": 4,
      "metadata": {
        "vscode": {
          "languageId": "javascript"
        }
      },
      "outputs": [
        {
          "name": "stdout",
          "output_type": "stream",
          "text": [
            "Overwriting RGB2Gray/rgb2gray.cu\n"
          ]
        }
      ],
      "source": [
        "%%writefile \"RGB2Gray/rgb2gray.cu\"\n",
        "\n",
        "#include \"../ppmIO.h\"\n",
        "#include <stdio.h>\n",
        "\n",
        "\n",
        "#define TILE_WIDTH 16\n",
        "__global__ void rgb2gray(float *grayImage, float *rgbImage, int channels, int width, int height) {\n",
        "  int x = threadIdx.x + blockIdx.x * blockDim.x;\n",
        "  int y = threadIdx.y + blockIdx.y * blockDim.y;\n",
        "\n",
        "  if (x < width && y < height) {\n",
        "    // get 1D coordinate for the grayscale image\n",
        "    int grayOffset = y * width + x;\n",
        "    // one can think of the RGB image having\n",
        "    // CHANNEL times columns than the gray scale image\n",
        "    int rgbOffset = grayOffset * channels;\n",
        "    float r       = rgbImage[rgbOffset];     // red value for pixel\n",
        "    float g       = rgbImage[rgbOffset + 1]; // green value for pixel\n",
        "    float b       = rgbImage[rgbOffset + 2]; // blue value for pixel\n",
        "    // perform the rescaling and store it\n",
        "    // We multiply by floating point constants\n",
        "    grayImage[grayOffset] = 0.21f * r + 0.71f * g + 0.07f * b;\n",
        "  }\n",
        "}\n",
        "\n",
        "\n",
        "int main(int argc, char *argv[]) {\n",
        "\n",
        "  // check if number of input args is correct: input and output image filename\n",
        "  if (argc != 3) {\n",
        "\t  printf(\"Wrong number of arguments: exactly 2 arguments needed (input and output .ppm filename)\\n\");\n",
        "\t  return 0;\n",
        "  }\n",
        "\n",
        "  // get size of input image\n",
        "  unsigned int width, height;\n",
        "  getPPMSize(argv[1], &width, &height);\n",
        "  // read input image to a host variable\n",
        "  float* hostInputImageData = (float*) malloc (width*height*3*sizeof(float));\n",
        "  readPPM(argv[1], hostInputImageData);\n",
        "\n",
        "  // allocate input and output images in the device\n",
        "  float *deviceInputImageData;\n",
        "  float *deviceOutputImageData;\n",
        "  cudaMalloc((void **)&deviceInputImageData, width * height * 3 * sizeof(float));\n",
        "  cudaMalloc((void **)&deviceOutputImageData, width * height * sizeof(float));\n",
        "\n",
        "  // copy image to the device\n",
        "  cudaMemcpy(deviceInputImageData, hostInputImageData, width * height * 3 * sizeof(float), cudaMemcpyHostToDevice);\n",
        "\n",
        "  dim3 dimGrid(ceil((float)width / TILE_WIDTH),\n",
        "               ceil((float)height / TILE_WIDTH));\n",
        "  dim3 dimBlock(TILE_WIDTH, TILE_WIDTH, 1);\n",
        "  rgb2gray<<<dimGrid, dimBlock>>>(deviceOutputImageData, deviceInputImageData, 3, width, height);\n",
        "\n",
        "  float *hostOutputImageData = (float*) malloc (width*height*sizeof(float));\n",
        "  cudaMemcpy(hostOutputImageData, deviceOutputImageData, width * height * sizeof(float), cudaMemcpyDeviceToHost);\n",
        "  writePPM(argv[2], hostOutputImageData, width, height, 1);\n",
        "\n",
        "  free(hostInputImageData);\n",
        "  free(hostOutputImageData);\n",
        "  cudaFree(deviceInputImageData);\n",
        "  cudaFree(deviceOutputImageData);\n",
        "\n",
        "  return 0;\n",
        "}"
      ]
    },
    {
      "cell_type": "markdown",
      "metadata": {},
      "source": [
        "### Compile"
      ]
    },
    {
      "cell_type": "code",
      "execution_count": null,
      "metadata": {
        "vscode": {
          "languageId": "javascript"
        }
      },
      "outputs": [],
      "source": [
        "!nvcc \"RGB2Gray/rgb2gray.cu\" -o \"RGB2Gray/a.out\" $MAXWELL_ARCH_CMD"
      ]
    },
    {
      "cell_type": "markdown",
      "metadata": {},
      "source": [
        "### Run"
      ]
    },
    {
      "cell_type": "code",
      "execution_count": 6,
      "metadata": {},
      "outputs": [],
      "source": [
        "!\"RGB2Gray/a.out\" \"RGB2Gray/dog_512.ppm\" \"RGB2Gray/output.ppm\""
      ]
    },
    {
      "cell_type": "markdown",
      "metadata": {},
      "source": [
        "### Verify"
      ]
    },
    {
      "cell_type": "code",
      "execution_count": 7,
      "metadata": {},
      "outputs": [
        {
          "name": "stdout",
          "output_type": "stream",
          "text": [
            "========= COMPUTE-SANITIZER\n",
            "========= ERROR SUMMARY: 0 errors\n"
          ]
        }
      ],
      "source": [
        "!compute-sanitizer --tool memcheck \"RGB2Gray/a.out\" \"RGB2Gray/dog_512.ppm\" \"RGB2Gray/output.ppm\""
      ]
    },
    {
      "cell_type": "markdown",
      "metadata": {},
      "source": [
        "## Matrix Multiplication"
      ]
    },
    {
      "cell_type": "code",
      "execution_count": 8,
      "metadata": {},
      "outputs": [
        {
          "name": "stdout",
          "output_type": "stream",
          "text": [
            "Overwriting MMul/mmul.cu\n"
          ]
        }
      ],
      "source": [
        "%%writefile \"MMul/mmul.cu\"\n",
        "\n",
        "#include <stdio.h>\n",
        "#include <cuda.h>\n",
        "\n",
        "\n",
        "__global__ void multMatrixVector(float* B, float* C, float* A, unsigned int size) {\n",
        "  int x = threadIdx.x + blockIdx.x * blockDim.x;\n",
        "  float sum = 0.0f;\n",
        "  if (x < size)\n",
        "  {\n",
        "    for (int i = 0; i < size; i++)\n",
        "    {\n",
        "      sum += B[x*size+i] * C[i];\n",
        "    }\n",
        "  A[x] = sum;\n",
        "  }\n",
        "}\n",
        "//\n",
        "\n",
        "int main(int argc, char **argv)\n",
        "{\n",
        "\tfloat h_B[] = {0, 1, 2, 3, 4, 5, 6, 7, 8};\n",
        "\tfloat h_C[] = {1, 2, 3};\n",
        "\tunsigned int length = 3;\n",
        "\n",
        "\tfloat *d_B;\n",
        "  float *d_C;\n",
        "  float *d_A;\n",
        "  cudaMalloc((void **)&d_B, length * length * sizeof(float));\n",
        "  cudaMalloc((void **)&d_C, length * sizeof(float));\n",
        "  cudaMalloc((void **)&d_A, length * sizeof(float));\n",
        "\n",
        "  cudaMemcpy(d_B, h_B, length * length * sizeof(float), cudaMemcpyHostToDevice);\n",
        "  cudaMemcpy(d_C, h_C, length * sizeof(float), cudaMemcpyHostToDevice);\n",
        "    \n",
        "  multMatrixVector<<<1, 32>>>(d_B, d_C, d_A, length);\n",
        "    \n",
        "  float *h_A = (float*) malloc (length*sizeof(float));\n",
        "  cudaMemcpy(h_A, d_A, length * sizeof(float), cudaMemcpyDeviceToHost);\n",
        "  \n",
        "  for(int i=0; i<length; i++)\n",
        "  {\n",
        "    printf(\"%f, \", h_A[i]);\n",
        "  }\n",
        "\n",
        "  free(h_A);\n",
        "  cudaFree(d_A);\n",
        "  cudaFree(d_B);\n",
        "  cudaFree(d_C);\n",
        "\n",
        "\treturn 0;\n",
        "}"
      ]
    },
    {
      "cell_type": "markdown",
      "metadata": {},
      "source": [
        "### Compile"
      ]
    },
    {
      "cell_type": "code",
      "execution_count": null,
      "metadata": {},
      "outputs": [],
      "source": [
        "!nvcc \"MMul/mmul.cu\" -o \"MMul/a.out\" $MAXWELL_ARCH_CMD"
      ]
    },
    {
      "cell_type": "markdown",
      "metadata": {},
      "source": [
        "### Run"
      ]
    },
    {
      "cell_type": "code",
      "execution_count": 10,
      "metadata": {},
      "outputs": [
        {
          "name": "stdout",
          "output_type": "stream",
          "text": [
            "8.000000, 26.000000, 44.000000, \n"
          ]
        }
      ],
      "source": [
        "!\"MMul/a.out\""
      ]
    },
    {
      "cell_type": "markdown",
      "metadata": {},
      "source": [
        "### Verify"
      ]
    },
    {
      "cell_type": "code",
      "execution_count": 11,
      "metadata": {},
      "outputs": [
        {
          "name": "stdout",
          "output_type": "stream",
          "text": [
            "========= COMPUTE-SANITIZER\n",
            "8.000000, 26.000000, 44.000000, ========= ERROR SUMMARY: 0 errors\n"
          ]
        }
      ],
      "source": [
        "!compute-sanitizer --tool memcheck \"MMul/a.out\""
      ]
    },
    {
      "cell_type": "markdown",
      "metadata": {},
      "source": [
        "## Matrix Addition"
      ]
    },
    {
      "cell_type": "code",
      "execution_count": 12,
      "metadata": {},
      "outputs": [
        {
          "name": "stdout",
          "output_type": "stream",
          "text": [
            "Overwriting MAdd/madd.cu\n"
          ]
        }
      ],
      "source": [
        "%%writefile \"MAdd/madd.cu\"\n",
        "\n",
        "#include <stdio.h>\n",
        "#include <cuda.h>\n",
        "\n",
        "#define TILE 16\n",
        "\n",
        "\n",
        "// 1 thread 1 element\n",
        "__global__ void addMMv1(float* B, float* C, float* A, unsigned int size) {\n",
        "  int i = blockDim.x*blockIdx.x + threadIdx.x;\n",
        "\n",
        "  if (i < size)\n",
        "\t{\n",
        "\t\tC[i] = A[i] + B[i];\n",
        "\t}\n",
        "}\n",
        "\n",
        "// 1 thread 1 col\n",
        "__global__ void addMMv2(float* B, float* C, float* A, unsigned int size) {\n",
        "  int y = blockDim.x*blockIdx.x + threadIdx.x;\n",
        "\n",
        "  if (y < size)\n",
        "\t{\n",
        "\t\tfor (int row_idx = 0; row_idx < size; ++row_idx)\n",
        "\t\t{\n",
        "\t\t\tint idx = row_idx * size + y;\n",
        "\t\t\tC[idx] = A[idx] + B[idx];\n",
        "\t\t}\n",
        "\t}\n",
        "\n",
        "}\n",
        "\n",
        "// 1 thread 1 row\n",
        "__global__ void addMMv3(float* B, float* C, float* A, unsigned int size) {\n",
        "  int x = blockDim.x*blockIdx.x + threadIdx.x;\n",
        "  \n",
        "  if (x < size)\n",
        "\t{\n",
        "\t\tint row_idx = x * size; \n",
        "\n",
        "\t\tfor (int col_idx = 0; col_idx < size; ++col_idx)\n",
        "\t\t{\n",
        "\t\t\tint idx = row_idx + col_idx;\n",
        "\t\t\tC[idx] = A[idx] + B[idx];\n",
        "\t\t}\n",
        "\t}\n",
        "}\n",
        "//\n",
        "\n",
        "void generateRandomFlattenMatrix(float *M, unsigned int size) {\n",
        "\tfor (int i = 0; i < size; ++i) {\n",
        "\t   M[i] = (rand() % 20) + 50;\n",
        "\t}\n",
        "}\n",
        "\n",
        "\n",
        "\n",
        "int main(int argc, char **argv)\n",
        "{\n",
        "\t\n",
        "\tunsigned int length = 32;\n",
        "  float *h_A = (float *) malloc(length*length);\n",
        "  float *h_B = (float *) malloc(length*length);\n",
        "\tgenerateRandomFlattenMatrix(h_A, length);\n",
        "\tgenerateRandomFlattenMatrix(h_B, length);\n",
        "  \n",
        "  float *d_B;\n",
        "  float *d_C;\n",
        "  float *d_A;\n",
        "  cudaMalloc((void **)&d_B, length * length * sizeof(float));\n",
        "  cudaMalloc((void **)&d_C, length * length * sizeof(float));\n",
        "  cudaMalloc((void **)&d_A, length * length * sizeof(float));\n",
        "\n",
        "  cudaMemcpy(d_B, h_B, length * length * sizeof(float), cudaMemcpyHostToDevice);\n",
        "  cudaMemcpy(d_A, h_A, length * length * sizeof(float), cudaMemcpyHostToDevice);\n",
        "\n",
        "  // Uncomment the chosen one of the three below lines to get results form particular function\n",
        "  //addMMv1<<<1, 64>>>(d_B, d_C, d_A, length);\n",
        "  //addMMv2<<<1, 32>>>(d_B, d_C, d_A, length);\n",
        "  addMMv3<<<1, 32>>>(d_B, d_C, d_A, length);\n",
        "    \n",
        "  float *h_C = (float*) malloc (length* length*sizeof(float));\n",
        "  cudaMemcpy(h_C, d_C, length * length * sizeof(float), cudaMemcpyDeviceToHost);\n",
        "  \n",
        "  for(int i=0; i<length; i++)\n",
        "  {\n",
        "    printf(\"%f, \", h_C[i]);\n",
        "  }\n",
        "\n",
        "  free(h_C);\n",
        "  cudaFree(d_A);\n",
        "  cudaFree(d_B);\n",
        "  cudaFree(d_C);\n",
        "\n",
        "\treturn 0;\n",
        "}"
      ]
    },
    {
      "cell_type": "markdown",
      "metadata": {},
      "source": [
        "### Compile"
      ]
    },
    {
      "cell_type": "code",
      "execution_count": null,
      "metadata": {},
      "outputs": [],
      "source": [
        "!nvcc \"MAdd/madd.cu\" -o \"MAdd/a.out\" $MAXWELL_ARCH_CMD"
      ]
    },
    {
      "cell_type": "markdown",
      "metadata": {},
      "source": [
        "### Run"
      ]
    },
    {
      "cell_type": "code",
      "execution_count": 14,
      "metadata": {},
      "outputs": [
        {
          "name": "stdout",
          "output_type": "stream",
          "text": [
            "112.000000, 125.000000, 123.000000, 112.000000, 116.000000, 123.000000, 133.000000, 132.000000, 105.000000, 115.000000, 107.000000, 118.000000, 114.000000, 111.000000, 102.000000, 122.000000, 128.000000, 110.000000, 114.000000, 120.000000, 113.000000, 121.000000, 119.000000, 132.000000, 115.000000, 103.000000, 110.000000, 134.000000, 134.000000, 130.000000, 117.000000, 108.000000, \n"
          ]
        }
      ],
      "source": [
        "!\"MAdd/a.out\""
      ]
    },
    {
      "cell_type": "markdown",
      "metadata": {},
      "source": [
        "### Verify"
      ]
    },
    {
      "cell_type": "code",
      "execution_count": 15,
      "metadata": {},
      "outputs": [
        {
          "name": "stdout",
          "output_type": "stream",
          "text": [
            "========= COMPUTE-SANITIZER\n",
            "112.000000, 125.000000, 123.000000, 112.000000, 116.000000, 123.000000, 133.000000, 132.000000, 105.000000, 115.000000, 107.000000, 118.000000, 114.000000, 111.000000, 102.000000, 122.000000, 128.000000, 110.000000, 114.000000, 120.000000, 113.000000, 121.000000, 119.000000, 132.000000, 115.000000, 103.000000, 110.000000, 134.000000, 134.000000, 130.000000, 117.000000, 108.000000, ========= ERROR SUMMARY: 0 errors\n"
          ]
        }
      ],
      "source": [
        "!compute-sanitizer --tool memcheck \"MAdd/a.out\""
      ]
    },
    {
      "cell_type": "markdown",
      "metadata": {},
      "source": [
        "### Run profiler"
      ]
    },
    {
      "cell_type": "code",
      "execution_count": 16,
      "metadata": {},
      "outputs": [
        {
          "name": "stdout",
          "output_type": "stream",
          "text": [
            "112.000000, 125.000000, 123.000000, 112.000000, 116.000000, 123.000000, 133.000000, 132.000000, 105.000000, 115.000000, 107.000000, 118.000000, 114.000000, 111.000000, 102.000000, 122.000000, 128.000000, 110.000000, 114.000000, 120.000000, 113.000000, 121.000000, 119.000000, 132.000000, 115.000000, 103.000000, 110.000000, 134.000000, 134.000000, 130.000000, 117.000000, 108.000000, \n"
          ]
        },
        {
          "name": "stderr",
          "output_type": "stream",
          "text": [
            "==8944== NVPROF is profiling process 8944, command: MAdd/a.out\n",
            "==8944== Profiling application: MAdd/a.out\n",
            "==8944== Profiling result:\n",
            "            Type  Time(%)      Time     Calls       Avg       Min       Max  Name\n",
            " GPU activities:   81.20%  15.616us         1  15.616us  15.616us  15.616us  addMMv3(float*, float*, float*, unsigned int)\n",
            "                   11.15%  2.1440us         2  1.0720us  1.0560us  1.0880us  [CUDA memcpy HtoD]\n",
            "                    7.65%  1.4720us         1  1.4720us  1.4720us  1.4720us  [CUDA memcpy DtoH]\n",
            "      API calls:   74.90%  58.664ms         3  19.555ms  2.3000us  58.658ms  cudaMalloc\n",
            "                   24.01%  18.806ms         1  18.806ms  18.806ms  18.806ms  cuDevicePrimaryCtxRelease\n",
            "                    0.42%  331.70us         3  110.57us  54.600us  195.40us  cudaMemcpy\n",
            "                    0.39%  305.40us         1  305.40us  305.40us  305.40us  cudaLaunchKernel\n",
            "                    0.19%  149.30us         3  49.766us  2.3000us  141.30us  cudaFree\n",
            "                    0.04%  29.500us         1  29.500us  29.500us  29.500us  cuLibraryUnload\n",
            "                    0.03%  24.200us       115     210ns     100ns  3.2000us  cuDeviceGetAttribute\n",
            "                    0.01%  6.7000us         4  1.6750us     200ns  4.8000us  cuDeviceGetCount\n",
            "                    0.00%  2.8000us         1  2.8000us  2.8000us  2.8000us  cuModuleGetLoadingMode\n",
            "                    0.00%     800ns         1     800ns     800ns     800ns  cuDeviceGetName\n",
            "                    0.00%     500ns         2     250ns     200ns     300ns  cuDeviceGet\n",
            "                    0.00%     400ns         1     400ns     400ns     400ns  cuDeviceGetLuid\n",
            "                    0.00%     300ns         1     300ns     300ns     300ns  cuDeviceTotalMem\n",
            "                    0.00%     100ns         1     100ns     100ns     100ns  cuDeviceGetUuid\n"
          ]
        }
      ],
      "source": [
        "!nvprof \"MAdd/a.out\""
      ]
    }
  ],
  "metadata": {
    "accelerator": "GPU",
    "colab": {
      "collapsed_sections": [],
      "name": "HelloWorld.ipynb",
      "provenance": []
    },
    "kernelspec": {
      "display_name": "Python 3",
      "name": "python3"
    },
    "language_info": {
      "codemirror_mode": {
        "name": "ipython",
        "version": 3
      },
      "file_extension": ".py",
      "mimetype": "text/x-python",
      "name": "python",
      "nbconvert_exporter": "python",
      "pygments_lexer": "ipython3",
      "version": "3.12.4"
    }
  },
  "nbformat": 4,
  "nbformat_minor": 0
}
